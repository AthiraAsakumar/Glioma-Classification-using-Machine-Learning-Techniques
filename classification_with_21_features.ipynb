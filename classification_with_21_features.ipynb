{
  "cells": [
    {
      "cell_type": "code",
      "execution_count": 38,
      "metadata": {
        "id": "mmhJd28ueB34"
      },
      "outputs": [],
      "source": [
        "#importing the libraries\n",
        "import numpy as np\n",
        "import matplotlib.pyplot as plt\n",
        "import pandas as pd\n",
        "import seaborn as sns\n",
        "from sklearn.model_selection import train_test_split\n",
        "import os\n",
        "from sklearn.preprocessing import StandardScaler\n",
        "from sklearn.linear_model import LogisticRegression"
      ]
    },
    {
      "cell_type": "code",
      "execution_count": 39,
      "metadata": {
        "colab": {
          "base_uri": "https://localhost:8080/"
        },
        "id": "pPs6l-NqeQXP",
        "outputId": "06c9dc2a-08ef-426c-ecff-92445e16ab6e"
      },
      "outputs": [
        {
          "output_type": "stream",
          "name": "stdout",
          "text": [
            "(839, 24)\n"
          ]
        }
      ],
      "source": [
        "#importing our cancer dataset\n",
        "glioma_data = pd.read_csv('TCGA_InfoWithGrade.csv')\n",
        "print(glioma_data.shape)\n"
      ]
    },
    {
      "cell_type": "code",
      "execution_count": 40,
      "metadata": {
        "id": "nxCvsbGWeVBy",
        "colab": {
          "base_uri": "https://localhost:8080/"
        },
        "outputId": "9c6de637-c2c5-4e79-9a6c-694a5d20d28c"
      },
      "outputs": [
        {
          "output_type": "stream",
          "name": "stdout",
          "text": [
            "(839, 21)\n",
            "(839,)\n"
          ]
        }
      ],
      "source": [
        "X = glioma_data.drop(\"Grade\", axis=1)\n",
        "y = glioma_data[\"Grade\"]\n",
        "\n",
        "drop_list1 = ['BCOR', 'CSMD3']\n",
        "X1 = X.drop(drop_list1,axis = 1 )\n",
        "\n",
        "print(X1.shape)\n",
        "print(y.shape)"
      ]
    },
    {
      "cell_type": "code",
      "execution_count": 41,
      "metadata": {
        "id": "6J0Dj4ZDfBan",
        "colab": {
          "base_uri": "https://localhost:8080/"
        },
        "outputId": "23805f55-2e15-4198-aacc-8b64bb4273e1"
      },
      "outputs": [
        {
          "output_type": "stream",
          "name": "stdout",
          "text": [
            "(671, 21) (671,)\n",
            "(168, 21) (168,)\n"
          ]
        }
      ],
      "source": [
        "X_train, X_test, y_train, y_test = train_test_split(X1, y, test_size=0.2, random_state=123)\n",
        "print(X_train.shape, y_train.shape)\n",
        "print(X_test.shape, y_test.shape)"
      ]
    },
    {
      "cell_type": "code",
      "execution_count": 42,
      "metadata": {
        "id": "HtaKhoukhrZy",
        "colab": {
          "base_uri": "https://localhost:8080/"
        },
        "outputId": "cc59ca6d-a818-47f4-eb3c-b0f957e8bb73"
      },
      "outputs": [
        {
          "output_type": "stream",
          "name": "stdout",
          "text": [
            "(671, 21)\n"
          ]
        }
      ],
      "source": [
        "#Feature Scaling\n",
        "\n",
        "from sklearn.preprocessing import StandardScaler\n",
        "\n",
        "sc_scaler = StandardScaler()\n",
        "\n",
        "X_train = sc_scaler.fit_transform(X_train)\n",
        "X_test = sc_scaler.transform(X_test)\n",
        "\n",
        "print(X_train.shape)"
      ]
    },
    {
      "cell_type": "code",
      "source": [
        "from imblearn.over_sampling import SMOTE\n",
        "\n",
        "# Instantiate SMOTE\n",
        "smote = SMOTE(sampling_strategy='auto', random_state=42)\n",
        "# Apply SMOTE to the training data\n",
        "X_train_resampled, y_train_resampled = smote.fit_resample(X_train, y_train)"
      ],
      "metadata": {
        "id": "WOFFuyu6b9GW"
      },
      "execution_count": 43,
      "outputs": []
    },
    {
      "cell_type": "markdown",
      "metadata": {
        "id": "-0NEFHRPgg7T"
      },
      "source": [
        "**INDIVIDUAL MODELS**"
      ]
    },
    {
      "cell_type": "markdown",
      "metadata": {
        "id": "fS2pGHNqgV08"
      },
      "source": [
        "**1. GaussianProcessClassifier**"
      ]
    },
    {
      "cell_type": "code",
      "execution_count": 44,
      "metadata": {
        "colab": {
          "base_uri": "https://localhost:8080/"
        },
        "id": "gEt8cmvEgb7S",
        "outputId": "a554e3d6-d827-40ae-edd6-f7f891b43576"
      },
      "outputs": [
        {
          "output_type": "stream",
          "name": "stdout",
          "text": [
            "Accuracy: 0.9107142857142857\n"
          ]
        }
      ],
      "source": [
        "from sklearn.gaussian_process import GaussianProcessClassifier\n",
        "from sklearn.gaussian_process.kernels import RBF\n",
        "from sklearn.metrics import accuracy_score\n",
        "\n",
        "# Create a Gaussian Process Classifier with an RBF kernel\n",
        "kernel = RBF(1.0)  # Radial basis function (RBF) kernel\n",
        "gpc = GaussianProcessClassifier(kernel= 1**2 * RBF(length_scale=1), n_restarts_optimizer= 0)\n",
        "\n",
        "# Fit the classifier to the training data\n",
        "gpc.fit(X_train_resampled, y_train_resampled)\n",
        "\n",
        "# Make predictions on the test data\n",
        "y_pred = gpc.predict(X_test)\n",
        "\n",
        "# Calculate accuracy score\n",
        "accuracy = accuracy_score(y_test, y_pred)\n",
        "print(\"Accuracy:\", accuracy)"
      ]
    },
    {
      "cell_type": "markdown",
      "metadata": {
        "id": "ij3oO0Rtiioo"
      },
      "source": [
        "**2. Logistic Regression**"
      ]
    },
    {
      "cell_type": "code",
      "execution_count": 45,
      "metadata": {
        "colab": {
          "base_uri": "https://localhost:8080/"
        },
        "id": "idBTVWPbg5Ar",
        "outputId": "d1f4ee09-302e-4b28-8a84-6db309455aff"
      },
      "outputs": [
        {
          "output_type": "stream",
          "name": "stdout",
          "text": [
            "Accuracy: 0.9047619047619048\n"
          ]
        }
      ],
      "source": [
        "import warnings\n",
        "warnings.filterwarnings(\"ignore\")\n",
        "from sklearn.metrics import accuracy_score\n",
        "\n",
        "# Step 1: Load a pre-trained model (e.g., Logistic Regression)\n",
        "pretrained_model = LogisticRegression(penalty='l2', C=0.2)  # You can replace this with any other pre-trained model\n",
        "\n",
        "# Step 2: Fine-tune the pre-trained model on the glioma grading task\n",
        "pretrained_model.fit(X_train_resampled, y_train_resampled)\n",
        "\n",
        "# Step 3: Evaluate the model's performance on the test set\n",
        "y_pred = pretrained_model.predict(X_test)\n",
        "accuracy = accuracy_score(y_test, y_pred)\n",
        "print(\"Accuracy:\", accuracy)"
      ]
    },
    {
      "cell_type": "markdown",
      "metadata": {
        "id": "axOXTdwBLhRM"
      },
      "source": [
        "**4. DecisionTreeClassifier**"
      ]
    },
    {
      "cell_type": "code",
      "execution_count": 46,
      "metadata": {
        "colab": {
          "base_uri": "https://localhost:8080/"
        },
        "id": "XqaD4mzOtWz0",
        "outputId": "93540ca6-3447-491c-dcd4-496a9cafd734"
      },
      "outputs": [
        {
          "output_type": "stream",
          "name": "stdout",
          "text": [
            "Accuracy: 0.9047619047619048\n"
          ]
        }
      ],
      "source": [
        "from sklearn.tree import DecisionTreeClassifier\n",
        "dtree = DecisionTreeClassifier(criterion=\"gini\", max_depth=5, min_samples_leaf=2, min_impurity_decrease=0.1)\n",
        "# Train the classifier on the training data\n",
        "dtree.fit(X_train_resampled, y_train_resampled)\n",
        "\n",
        "# Make predictions on the test set\n",
        "y_pred = dtree.predict(X_test)\n",
        "\n",
        "# Evaluate the classifier's performance\n",
        "accuracy = accuracy_score(y_test, y_pred)\n",
        "print(\"Accuracy:\", accuracy)"
      ]
    },
    {
      "cell_type": "markdown",
      "metadata": {
        "id": "EFO4uH1ILnuR"
      },
      "source": [
        "**5. GaussianNaiveBayes**"
      ]
    },
    {
      "cell_type": "code",
      "execution_count": 47,
      "metadata": {
        "colab": {
          "base_uri": "https://localhost:8080/"
        },
        "id": "MhKn9te1Ngew",
        "outputId": "bfbca0ea-397d-4a2d-e097-755e896b3951"
      },
      "outputs": [
        {
          "output_type": "stream",
          "name": "stdout",
          "text": [
            "Accuracy: 0.9107142857142857\n"
          ]
        }
      ],
      "source": [
        "from sklearn.naive_bayes import GaussianNB\n",
        "gnb = GaussianNB(var_smoothing=0.01)\n",
        "\n",
        "# Train the classifier on the training data\n",
        "gnb.fit(X_train_resampled, y_train_resampled)\n",
        "\n",
        "# Make predictions on the test set\n",
        "y_pred = gnb.predict(X_test)\n",
        "\n",
        "# Evaluate the classifier's performance\n",
        "accuracy = accuracy_score(y_test, y_pred)\n",
        "print(\"Accuracy:\", accuracy)"
      ]
    },
    {
      "cell_type": "markdown",
      "metadata": {
        "id": "11nRP5KnU9q5"
      },
      "source": [
        "**6. XGBoost**"
      ]
    },
    {
      "cell_type": "code",
      "execution_count": 48,
      "metadata": {
        "colab": {
          "base_uri": "https://localhost:8080/"
        },
        "id": "03aaRm-APyn6",
        "outputId": "c8e41449-e8d4-4abb-c27b-6f9f49dbf75d"
      },
      "outputs": [
        {
          "output_type": "stream",
          "name": "stdout",
          "text": [
            "0.8988095238095238\n"
          ]
        }
      ],
      "source": [
        "#XGBClassifier\n",
        "import xgboost as xgb\n",
        "xgb_clf = xgb.XGBClassifier(gamma= 0, learning_rate= 0.2, max_depth= 3, n_estimators= 50)\n",
        "xgb_clf.fit(X_train_resampled, y_train_resampled)\n",
        "print(xgb_clf.score(X_test, y_test))"
      ]
    },
    {
      "cell_type": "markdown",
      "metadata": {
        "id": "NO-017VqU4bl"
      },
      "source": [
        "**7. GradientBoostingClassifier**"
      ]
    },
    {
      "cell_type": "code",
      "execution_count": 49,
      "metadata": {
        "colab": {
          "base_uri": "https://localhost:8080/"
        },
        "id": "bW7nJDNRRHNZ",
        "outputId": "17648b58-66db-4913-9d5c-bb170538c87c"
      },
      "outputs": [
        {
          "output_type": "stream",
          "name": "stdout",
          "text": [
            "Accuracy: 0.9166666666666666\n"
          ]
        }
      ],
      "source": [
        "from sklearn.ensemble import GradientBoostingClassifier\n",
        "gbc_clf = GradientBoostingClassifier(learning_rate= 0.01, max_depth= 5, min_samples_leaf= 1, min_samples_split= 10, n_estimators= 50, subsample= 0.8)\n",
        "gbc_clf.fit(X_train_resampled, y_train_resampled)\n",
        "# Make predictions on the test set\n",
        "y_pred = gbc_clf.predict(X_test)\n",
        "\n",
        "# Evaluate the classifier's performance\n",
        "accuracy = accuracy_score(y_test, y_pred)\n",
        "print(\"Accuracy:\", accuracy)"
      ]
    },
    {
      "cell_type": "markdown",
      "metadata": {
        "id": "JNZxbMZ_r1hr"
      },
      "source": [
        "Ensemble methods\n"
      ]
    },
    {
      "cell_type": "code",
      "source": [
        "from sklearn.ensemble import VotingClassifier\n",
        "\n",
        "estimators = [(\"GNB\", gnb), (\"DT\", dtree), (\"XGB\", xgb_clf), (\"GPC\", gpc), (\"GBC\", gbc_clf)]\n",
        "voting_clf1 = VotingClassifier(estimators=estimators, voting=\"hard\")\n",
        "\n",
        "voting_clf1 = voting_clf1.fit(X_train_resampled, y_train_resampled)\n",
        "print(\"Voter 1's accuracy: %.2f%%\" % (100*voting_clf1.score(X_test, y_test)))\n"
      ],
      "metadata": {
        "colab": {
          "base_uri": "https://localhost:8080/"
        },
        "id": "WyDdBUFwdh9B",
        "outputId": "29412f11-9b7c-4f02-81b4-50bcdf74d235"
      },
      "execution_count": 50,
      "outputs": [
        {
          "output_type": "stream",
          "name": "stdout",
          "text": [
            "Voter 1's accuracy: 91.07%\n"
          ]
        }
      ]
    },
    {
      "cell_type": "code",
      "source": [
        "from itertools import combinations\n",
        "from sklearn.metrics import (accuracy_score, precision_score, recall_score, f1_score,\n",
        "                             roc_curve, roc_auc_score, confusion_matrix, precision_recall_curve)\n",
        "estimators = [(\"GNB\", gnb), (\"DT\", dtree), (\"XGB\", xgb_clf), (\"GPC\", gpc), (\"GBC\", gbc_clf)]\n",
        "\n",
        "vot_classifiers = []\n",
        "for n in range(3, 6):\n",
        "    for subset in combinations(estimators, n):\n",
        "        vot_classifier = VotingClassifier(estimators=list(subset), voting='hard')\n",
        "        vot_classifiers.append(vot_classifier)\n",
        "\n",
        "results_df = pd.DataFrame(columns=['Classifier', 'Accuracy', 'Precision', 'Recall', 'F1 Score'])\n",
        "results_dff = pd.DataFrame(columns=['Classifier', 'TP', 'FP', 'FN', 'TN'])\n",
        "\n",
        "\n",
        "for vc in vot_classifiers:\n",
        "    vc.fit(X_train_resampled, y_train_resampled)\n",
        "    y_pred = vc.predict(X_test)\n",
        "    accuracy = accuracy_score(y_test, y_pred)\n",
        "    precision = precision_score(y_test, y_pred)\n",
        "    recall = recall_score(y_test, y_pred)\n",
        "    f1 = f1_score(y_test, y_pred)\n",
        "    classifier_name = [name for name, _ in vc.estimators]\n",
        "    clasf_names_str = ', '.join(classifier_name)\n",
        "    cm = confusion_matrix(y_test, y_pred)\n",
        "    tp, fp, fn, tn = cm.ravel()\n",
        "    results_df = results_df.append({'Classifier': clasf_names_str, 'Accuracy': accuracy,\n",
        "                                    'Precision': precision, 'Recall': recall, 'F1 Score': f1},\n",
        "                                   ignore_index=True)\n",
        "    results_dff = results_dff.append({'Classifier': clasf_names_str, 'TP': tp, 'FP': fp, 'FN': fn, 'TN': tn},ignore_index=True)\n"
      ],
      "metadata": {
        "id": "L7-mNRvMeTzl"
      },
      "execution_count": 51,
      "outputs": []
    },
    {
      "cell_type": "code",
      "source": [
        "combo = results_df.style.format(precision=3)\n",
        "def highlight_max(s):\n",
        "    is_max = s == s.max()\n",
        "    return ['background: lightgreen' if cell else '' for cell in is_max]\n",
        "combo.apply(highlight_max)\n"
      ],
      "metadata": {
        "colab": {
          "base_uri": "https://localhost:8080/",
          "height": 551
        },
        "id": "BkXkAOJMeglg",
        "outputId": "52efee13-8ff5-4a49-a6a2-d5e552db8bcc"
      },
      "execution_count": 52,
      "outputs": [
        {
          "output_type": "execute_result",
          "data": {
            "text/plain": [
              "<pandas.io.formats.style.Styler at 0x7bb966b59300>"
            ],
            "text/html": [
              "<style type=\"text/css\">\n",
              "#T_815f3_row2_col1, #T_815f3_row2_col2, #T_815f3_row2_col3, #T_815f3_row2_col4, #T_815f3_row7_col1, #T_815f3_row7_col2, #T_815f3_row7_col3, #T_815f3_row7_col4, #T_815f3_row8_col1, #T_815f3_row8_col2, #T_815f3_row8_col3, #T_815f3_row8_col4, #T_815f3_row9_col0 {\n",
              "  background: lightgreen;\n",
              "}\n",
              "</style>\n",
              "<table id=\"T_815f3\" class=\"dataframe\">\n",
              "  <thead>\n",
              "    <tr>\n",
              "      <th class=\"blank level0\" >&nbsp;</th>\n",
              "      <th id=\"T_815f3_level0_col0\" class=\"col_heading level0 col0\" >Classifier</th>\n",
              "      <th id=\"T_815f3_level0_col1\" class=\"col_heading level0 col1\" >Accuracy</th>\n",
              "      <th id=\"T_815f3_level0_col2\" class=\"col_heading level0 col2\" >Precision</th>\n",
              "      <th id=\"T_815f3_level0_col3\" class=\"col_heading level0 col3\" >Recall</th>\n",
              "      <th id=\"T_815f3_level0_col4\" class=\"col_heading level0 col4\" >F1 Score</th>\n",
              "    </tr>\n",
              "  </thead>\n",
              "  <tbody>\n",
              "    <tr>\n",
              "      <th id=\"T_815f3_level0_row0\" class=\"row_heading level0 row0\" >0</th>\n",
              "      <td id=\"T_815f3_row0_col0\" class=\"data row0 col0\" >GNB, DT, XGB</td>\n",
              "      <td id=\"T_815f3_row0_col1\" class=\"data row0 col1\" >0.911</td>\n",
              "      <td id=\"T_815f3_row0_col2\" class=\"data row0 col2\" >0.850</td>\n",
              "      <td id=\"T_815f3_row0_col3\" class=\"data row0 col3\" >0.958</td>\n",
              "      <td id=\"T_815f3_row0_col4\" class=\"data row0 col4\" >0.901</td>\n",
              "    </tr>\n",
              "    <tr>\n",
              "      <th id=\"T_815f3_level0_row1\" class=\"row_heading level0 row1\" >1</th>\n",
              "      <td id=\"T_815f3_row1_col0\" class=\"data row1 col0\" >GNB, DT, GPC</td>\n",
              "      <td id=\"T_815f3_row1_col1\" class=\"data row1 col1\" >0.911</td>\n",
              "      <td id=\"T_815f3_row1_col2\" class=\"data row1 col2\" >0.850</td>\n",
              "      <td id=\"T_815f3_row1_col3\" class=\"data row1 col3\" >0.958</td>\n",
              "      <td id=\"T_815f3_row1_col4\" class=\"data row1 col4\" >0.901</td>\n",
              "    </tr>\n",
              "    <tr>\n",
              "      <th id=\"T_815f3_level0_row2\" class=\"row_heading level0 row2\" >2</th>\n",
              "      <td id=\"T_815f3_row2_col0\" class=\"data row2 col0\" >GNB, DT, GBC</td>\n",
              "      <td id=\"T_815f3_row2_col1\" class=\"data row2 col1\" >0.917</td>\n",
              "      <td id=\"T_815f3_row2_col2\" class=\"data row2 col2\" >0.852</td>\n",
              "      <td id=\"T_815f3_row2_col3\" class=\"data row2 col3\" >0.972</td>\n",
              "      <td id=\"T_815f3_row2_col4\" class=\"data row2 col4\" >0.908</td>\n",
              "    </tr>\n",
              "    <tr>\n",
              "      <th id=\"T_815f3_level0_row3\" class=\"row_heading level0 row3\" >3</th>\n",
              "      <td id=\"T_815f3_row3_col0\" class=\"data row3 col0\" >GNB, XGB, GPC</td>\n",
              "      <td id=\"T_815f3_row3_col1\" class=\"data row3 col1\" >0.905</td>\n",
              "      <td id=\"T_815f3_row3_col2\" class=\"data row3 col2\" >0.848</td>\n",
              "      <td id=\"T_815f3_row3_col3\" class=\"data row3 col3\" >0.944</td>\n",
              "      <td id=\"T_815f3_row3_col4\" class=\"data row3 col4\" >0.893</td>\n",
              "    </tr>\n",
              "    <tr>\n",
              "      <th id=\"T_815f3_level0_row4\" class=\"row_heading level0 row4\" >4</th>\n",
              "      <td id=\"T_815f3_row4_col0\" class=\"data row4 col0\" >GNB, XGB, GBC</td>\n",
              "      <td id=\"T_815f3_row4_col1\" class=\"data row4 col1\" >0.911</td>\n",
              "      <td id=\"T_815f3_row4_col2\" class=\"data row4 col2\" >0.850</td>\n",
              "      <td id=\"T_815f3_row4_col3\" class=\"data row4 col3\" >0.958</td>\n",
              "      <td id=\"T_815f3_row4_col4\" class=\"data row4 col4\" >0.901</td>\n",
              "    </tr>\n",
              "    <tr>\n",
              "      <th id=\"T_815f3_level0_row5\" class=\"row_heading level0 row5\" >5</th>\n",
              "      <td id=\"T_815f3_row5_col0\" class=\"data row5 col0\" >GNB, GPC, GBC</td>\n",
              "      <td id=\"T_815f3_row5_col1\" class=\"data row5 col1\" >0.911</td>\n",
              "      <td id=\"T_815f3_row5_col2\" class=\"data row5 col2\" >0.850</td>\n",
              "      <td id=\"T_815f3_row5_col3\" class=\"data row5 col3\" >0.958</td>\n",
              "      <td id=\"T_815f3_row5_col4\" class=\"data row5 col4\" >0.901</td>\n",
              "    </tr>\n",
              "    <tr>\n",
              "      <th id=\"T_815f3_level0_row6\" class=\"row_heading level0 row6\" >6</th>\n",
              "      <td id=\"T_815f3_row6_col0\" class=\"data row6 col0\" >DT, XGB, GPC</td>\n",
              "      <td id=\"T_815f3_row6_col1\" class=\"data row6 col1\" >0.905</td>\n",
              "      <td id=\"T_815f3_row6_col2\" class=\"data row6 col2\" >0.848</td>\n",
              "      <td id=\"T_815f3_row6_col3\" class=\"data row6 col3\" >0.944</td>\n",
              "      <td id=\"T_815f3_row6_col4\" class=\"data row6 col4\" >0.893</td>\n",
              "    </tr>\n",
              "    <tr>\n",
              "      <th id=\"T_815f3_level0_row7\" class=\"row_heading level0 row7\" >7</th>\n",
              "      <td id=\"T_815f3_row7_col0\" class=\"data row7 col0\" >DT, XGB, GBC</td>\n",
              "      <td id=\"T_815f3_row7_col1\" class=\"data row7 col1\" >0.917</td>\n",
              "      <td id=\"T_815f3_row7_col2\" class=\"data row7 col2\" >0.852</td>\n",
              "      <td id=\"T_815f3_row7_col3\" class=\"data row7 col3\" >0.972</td>\n",
              "      <td id=\"T_815f3_row7_col4\" class=\"data row7 col4\" >0.908</td>\n",
              "    </tr>\n",
              "    <tr>\n",
              "      <th id=\"T_815f3_level0_row8\" class=\"row_heading level0 row8\" >8</th>\n",
              "      <td id=\"T_815f3_row8_col0\" class=\"data row8 col0\" >DT, GPC, GBC</td>\n",
              "      <td id=\"T_815f3_row8_col1\" class=\"data row8 col1\" >0.917</td>\n",
              "      <td id=\"T_815f3_row8_col2\" class=\"data row8 col2\" >0.852</td>\n",
              "      <td id=\"T_815f3_row8_col3\" class=\"data row8 col3\" >0.972</td>\n",
              "      <td id=\"T_815f3_row8_col4\" class=\"data row8 col4\" >0.908</td>\n",
              "    </tr>\n",
              "    <tr>\n",
              "      <th id=\"T_815f3_level0_row9\" class=\"row_heading level0 row9\" >9</th>\n",
              "      <td id=\"T_815f3_row9_col0\" class=\"data row9 col0\" >XGB, GPC, GBC</td>\n",
              "      <td id=\"T_815f3_row9_col1\" class=\"data row9 col1\" >0.905</td>\n",
              "      <td id=\"T_815f3_row9_col2\" class=\"data row9 col2\" >0.848</td>\n",
              "      <td id=\"T_815f3_row9_col3\" class=\"data row9 col3\" >0.944</td>\n",
              "      <td id=\"T_815f3_row9_col4\" class=\"data row9 col4\" >0.893</td>\n",
              "    </tr>\n",
              "    <tr>\n",
              "      <th id=\"T_815f3_level0_row10\" class=\"row_heading level0 row10\" >10</th>\n",
              "      <td id=\"T_815f3_row10_col0\" class=\"data row10 col0\" >GNB, DT, XGB, GPC</td>\n",
              "      <td id=\"T_815f3_row10_col1\" class=\"data row10 col1\" >0.905</td>\n",
              "      <td id=\"T_815f3_row10_col2\" class=\"data row10 col2\" >0.848</td>\n",
              "      <td id=\"T_815f3_row10_col3\" class=\"data row10 col3\" >0.944</td>\n",
              "      <td id=\"T_815f3_row10_col4\" class=\"data row10 col4\" >0.893</td>\n",
              "    </tr>\n",
              "    <tr>\n",
              "      <th id=\"T_815f3_level0_row11\" class=\"row_heading level0 row11\" >11</th>\n",
              "      <td id=\"T_815f3_row11_col0\" class=\"data row11 col0\" >GNB, DT, XGB, GBC</td>\n",
              "      <td id=\"T_815f3_row11_col1\" class=\"data row11 col1\" >0.911</td>\n",
              "      <td id=\"T_815f3_row11_col2\" class=\"data row11 col2\" >0.850</td>\n",
              "      <td id=\"T_815f3_row11_col3\" class=\"data row11 col3\" >0.958</td>\n",
              "      <td id=\"T_815f3_row11_col4\" class=\"data row11 col4\" >0.901</td>\n",
              "    </tr>\n",
              "    <tr>\n",
              "      <th id=\"T_815f3_level0_row12\" class=\"row_heading level0 row12\" >12</th>\n",
              "      <td id=\"T_815f3_row12_col0\" class=\"data row12 col0\" >GNB, DT, GPC, GBC</td>\n",
              "      <td id=\"T_815f3_row12_col1\" class=\"data row12 col1\" >0.911</td>\n",
              "      <td id=\"T_815f3_row12_col2\" class=\"data row12 col2\" >0.850</td>\n",
              "      <td id=\"T_815f3_row12_col3\" class=\"data row12 col3\" >0.958</td>\n",
              "      <td id=\"T_815f3_row12_col4\" class=\"data row12 col4\" >0.901</td>\n",
              "    </tr>\n",
              "    <tr>\n",
              "      <th id=\"T_815f3_level0_row13\" class=\"row_heading level0 row13\" >13</th>\n",
              "      <td id=\"T_815f3_row13_col0\" class=\"data row13 col0\" >GNB, XGB, GPC, GBC</td>\n",
              "      <td id=\"T_815f3_row13_col1\" class=\"data row13 col1\" >0.905</td>\n",
              "      <td id=\"T_815f3_row13_col2\" class=\"data row13 col2\" >0.848</td>\n",
              "      <td id=\"T_815f3_row13_col3\" class=\"data row13 col3\" >0.944</td>\n",
              "      <td id=\"T_815f3_row13_col4\" class=\"data row13 col4\" >0.893</td>\n",
              "    </tr>\n",
              "    <tr>\n",
              "      <th id=\"T_815f3_level0_row14\" class=\"row_heading level0 row14\" >14</th>\n",
              "      <td id=\"T_815f3_row14_col0\" class=\"data row14 col0\" >DT, XGB, GPC, GBC</td>\n",
              "      <td id=\"T_815f3_row14_col1\" class=\"data row14 col1\" >0.905</td>\n",
              "      <td id=\"T_815f3_row14_col2\" class=\"data row14 col2\" >0.848</td>\n",
              "      <td id=\"T_815f3_row14_col3\" class=\"data row14 col3\" >0.944</td>\n",
              "      <td id=\"T_815f3_row14_col4\" class=\"data row14 col4\" >0.893</td>\n",
              "    </tr>\n",
              "    <tr>\n",
              "      <th id=\"T_815f3_level0_row15\" class=\"row_heading level0 row15\" >15</th>\n",
              "      <td id=\"T_815f3_row15_col0\" class=\"data row15 col0\" >GNB, DT, XGB, GPC, GBC</td>\n",
              "      <td id=\"T_815f3_row15_col1\" class=\"data row15 col1\" >0.911</td>\n",
              "      <td id=\"T_815f3_row15_col2\" class=\"data row15 col2\" >0.850</td>\n",
              "      <td id=\"T_815f3_row15_col3\" class=\"data row15 col3\" >0.958</td>\n",
              "      <td id=\"T_815f3_row15_col4\" class=\"data row15 col4\" >0.901</td>\n",
              "    </tr>\n",
              "  </tbody>\n",
              "</table>\n"
            ]
          },
          "metadata": {},
          "execution_count": 52
        }
      ]
    },
    {
      "cell_type": "markdown",
      "metadata": {
        "id": "vQo5uvwnrwqB"
      },
      "source": [
        "**STACKING ENSEMBLE**"
      ]
    },
    {
      "cell_type": "code",
      "source": [
        "from sklearn.ensemble import StackingClassifier\n",
        "\n",
        "estimators = [(\"GNB\", gnb), (\"DT\", dtree), (\"XGB\", xgb_clf), (\"GPC\", gpc), (\"GBC\", gbc_clf)]\n",
        "stk_classifiers = []\n",
        "for n in range(3, 6):\n",
        "    for subset in combinations(estimators, n):\n",
        "        stk_classifier = StackingClassifier(estimators=list(subset), final_estimator=pretrained_model)\n",
        "        stk_classifiers.append(stk_classifier)\n",
        "\n",
        "stk_results = pd.DataFrame(columns=['Classifier', 'Accuracy', 'Precision', 'Recall', 'F1 Score'])\n",
        "stk_resultss = pd.DataFrame(columns=['Classifier', 'TP', 'FP', 'FN', 'TN'])\n",
        "\n",
        "\n",
        "for stk in stk_classifiers:\n",
        "    stk.fit(X_train_resampled, y_train_resampled)\n",
        "    y_pred = stk.predict(X_test)\n",
        "    accuracy = accuracy_score(y_test, y_pred)\n",
        "    precision = precision_score(y_test, y_pred)\n",
        "    recall = recall_score(y_test, y_pred)\n",
        "    f1 = f1_score(y_test, y_pred)\n",
        "    classifier_name = [name for name, _ in stk.estimators]\n",
        "    clasf_names_str = ', '.join(classifier_name)\n",
        "    cm = confusion_matrix(y_test, y_pred)\n",
        "    tp, fp, fn, tn = cm.ravel()\n",
        "    stk_results = stk_results.append({'Classifier': clasf_names_str, 'Accuracy': accuracy,\n",
        "                                    'Precision': precision, 'Recall': recall, 'F1 Score': f1},\n",
        "                                   ignore_index=True)\n",
        "    stk_resultss = stk_resultss.append({'Classifier': clasf_names_str, 'TP': tp, 'FP': fp, 'FN': fn, 'TN': tn},ignore_index=True)"
      ],
      "metadata": {
        "id": "Wwi2a828ME6L"
      },
      "execution_count": 33,
      "outputs": []
    },
    {
      "cell_type": "code",
      "source": [
        "stk_combo = stk_results.style.format(precision=3)\n",
        "def highlight_max(s):\n",
        "    is_max = s == s.max()\n",
        "    return ['background: lightgreen' if cell else '' for cell in is_max]\n",
        "stk_combo.apply(highlight_max)\n"
      ],
      "metadata": {
        "colab": {
          "base_uri": "https://localhost:8080/",
          "height": 551
        },
        "id": "00u8ZW6ujZHn",
        "outputId": "813475bc-5c23-4f18-c5e8-2186c468dd0a"
      },
      "execution_count": 34,
      "outputs": [
        {
          "output_type": "execute_result",
          "data": {
            "text/plain": [
              "<pandas.io.formats.style.Styler at 0x7bb966e876a0>"
            ],
            "text/html": [
              "<style type=\"text/css\">\n",
              "#T_cc956_row2_col1, #T_cc956_row2_col2, #T_cc956_row4_col1, #T_cc956_row4_col2, #T_cc956_row5_col1, #T_cc956_row5_col2, #T_cc956_row7_col1, #T_cc956_row7_col3, #T_cc956_row7_col4, #T_cc956_row8_col1, #T_cc956_row8_col3, #T_cc956_row8_col4, #T_cc956_row9_col0 {\n",
              "  background: lightgreen;\n",
              "}\n",
              "</style>\n",
              "<table id=\"T_cc956\" class=\"dataframe\">\n",
              "  <thead>\n",
              "    <tr>\n",
              "      <th class=\"blank level0\" >&nbsp;</th>\n",
              "      <th id=\"T_cc956_level0_col0\" class=\"col_heading level0 col0\" >Classifier</th>\n",
              "      <th id=\"T_cc956_level0_col1\" class=\"col_heading level0 col1\" >Accuracy</th>\n",
              "      <th id=\"T_cc956_level0_col2\" class=\"col_heading level0 col2\" >Precision</th>\n",
              "      <th id=\"T_cc956_level0_col3\" class=\"col_heading level0 col3\" >Recall</th>\n",
              "      <th id=\"T_cc956_level0_col4\" class=\"col_heading level0 col4\" >F1 Score</th>\n",
              "    </tr>\n",
              "  </thead>\n",
              "  <tbody>\n",
              "    <tr>\n",
              "      <th id=\"T_cc956_level0_row0\" class=\"row_heading level0 row0\" >0</th>\n",
              "      <td id=\"T_cc956_row0_col0\" class=\"data row0 col0\" >GNB, DT, XGB</td>\n",
              "      <td id=\"T_cc956_row0_col1\" class=\"data row0 col1\" >0.911</td>\n",
              "      <td id=\"T_cc956_row0_col2\" class=\"data row0 col2\" >0.850</td>\n",
              "      <td id=\"T_cc956_row0_col3\" class=\"data row0 col3\" >0.958</td>\n",
              "      <td id=\"T_cc956_row0_col4\" class=\"data row0 col4\" >0.901</td>\n",
              "    </tr>\n",
              "    <tr>\n",
              "      <th id=\"T_cc956_level0_row1\" class=\"row_heading level0 row1\" >1</th>\n",
              "      <td id=\"T_cc956_row1_col0\" class=\"data row1 col0\" >GNB, DT, GPC</td>\n",
              "      <td id=\"T_cc956_row1_col1\" class=\"data row1 col1\" >0.911</td>\n",
              "      <td id=\"T_cc956_row1_col2\" class=\"data row1 col2\" >0.850</td>\n",
              "      <td id=\"T_cc956_row1_col3\" class=\"data row1 col3\" >0.958</td>\n",
              "      <td id=\"T_cc956_row1_col4\" class=\"data row1 col4\" >0.901</td>\n",
              "    </tr>\n",
              "    <tr>\n",
              "      <th id=\"T_cc956_level0_row2\" class=\"row_heading level0 row2\" >2</th>\n",
              "      <td id=\"T_cc956_row2_col0\" class=\"data row2 col0\" >GNB, DT, GBC</td>\n",
              "      <td id=\"T_cc956_row2_col1\" class=\"data row2 col1\" >0.917</td>\n",
              "      <td id=\"T_cc956_row2_col2\" class=\"data row2 col2\" >0.861</td>\n",
              "      <td id=\"T_cc956_row2_col3\" class=\"data row2 col3\" >0.958</td>\n",
              "      <td id=\"T_cc956_row2_col4\" class=\"data row2 col4\" >0.907</td>\n",
              "    </tr>\n",
              "    <tr>\n",
              "      <th id=\"T_cc956_level0_row3\" class=\"row_heading level0 row3\" >3</th>\n",
              "      <td id=\"T_cc956_row3_col0\" class=\"data row3 col0\" >GNB, XGB, GPC</td>\n",
              "      <td id=\"T_cc956_row3_col1\" class=\"data row3 col1\" >0.911</td>\n",
              "      <td id=\"T_cc956_row3_col2\" class=\"data row3 col2\" >0.850</td>\n",
              "      <td id=\"T_cc956_row3_col3\" class=\"data row3 col3\" >0.958</td>\n",
              "      <td id=\"T_cc956_row3_col4\" class=\"data row3 col4\" >0.901</td>\n",
              "    </tr>\n",
              "    <tr>\n",
              "      <th id=\"T_cc956_level0_row4\" class=\"row_heading level0 row4\" >4</th>\n",
              "      <td id=\"T_cc956_row4_col0\" class=\"data row4 col0\" >GNB, XGB, GBC</td>\n",
              "      <td id=\"T_cc956_row4_col1\" class=\"data row4 col1\" >0.917</td>\n",
              "      <td id=\"T_cc956_row4_col2\" class=\"data row4 col2\" >0.861</td>\n",
              "      <td id=\"T_cc956_row4_col3\" class=\"data row4 col3\" >0.958</td>\n",
              "      <td id=\"T_cc956_row4_col4\" class=\"data row4 col4\" >0.907</td>\n",
              "    </tr>\n",
              "    <tr>\n",
              "      <th id=\"T_cc956_level0_row5\" class=\"row_heading level0 row5\" >5</th>\n",
              "      <td id=\"T_cc956_row5_col0\" class=\"data row5 col0\" >GNB, GPC, GBC</td>\n",
              "      <td id=\"T_cc956_row5_col1\" class=\"data row5 col1\" >0.917</td>\n",
              "      <td id=\"T_cc956_row5_col2\" class=\"data row5 col2\" >0.861</td>\n",
              "      <td id=\"T_cc956_row5_col3\" class=\"data row5 col3\" >0.958</td>\n",
              "      <td id=\"T_cc956_row5_col4\" class=\"data row5 col4\" >0.907</td>\n",
              "    </tr>\n",
              "    <tr>\n",
              "      <th id=\"T_cc956_level0_row6\" class=\"row_heading level0 row6\" >6</th>\n",
              "      <td id=\"T_cc956_row6_col0\" class=\"data row6 col0\" >DT, XGB, GPC</td>\n",
              "      <td id=\"T_cc956_row6_col1\" class=\"data row6 col1\" >0.911</td>\n",
              "      <td id=\"T_cc956_row6_col2\" class=\"data row6 col2\" >0.850</td>\n",
              "      <td id=\"T_cc956_row6_col3\" class=\"data row6 col3\" >0.958</td>\n",
              "      <td id=\"T_cc956_row6_col4\" class=\"data row6 col4\" >0.901</td>\n",
              "    </tr>\n",
              "    <tr>\n",
              "      <th id=\"T_cc956_level0_row7\" class=\"row_heading level0 row7\" >7</th>\n",
              "      <td id=\"T_cc956_row7_col0\" class=\"data row7 col0\" >DT, XGB, GBC</td>\n",
              "      <td id=\"T_cc956_row7_col1\" class=\"data row7 col1\" >0.917</td>\n",
              "      <td id=\"T_cc956_row7_col2\" class=\"data row7 col2\" >0.852</td>\n",
              "      <td id=\"T_cc956_row7_col3\" class=\"data row7 col3\" >0.972</td>\n",
              "      <td id=\"T_cc956_row7_col4\" class=\"data row7 col4\" >0.908</td>\n",
              "    </tr>\n",
              "    <tr>\n",
              "      <th id=\"T_cc956_level0_row8\" class=\"row_heading level0 row8\" >8</th>\n",
              "      <td id=\"T_cc956_row8_col0\" class=\"data row8 col0\" >DT, GPC, GBC</td>\n",
              "      <td id=\"T_cc956_row8_col1\" class=\"data row8 col1\" >0.917</td>\n",
              "      <td id=\"T_cc956_row8_col2\" class=\"data row8 col2\" >0.852</td>\n",
              "      <td id=\"T_cc956_row8_col3\" class=\"data row8 col3\" >0.972</td>\n",
              "      <td id=\"T_cc956_row8_col4\" class=\"data row8 col4\" >0.908</td>\n",
              "    </tr>\n",
              "    <tr>\n",
              "      <th id=\"T_cc956_level0_row9\" class=\"row_heading level0 row9\" >9</th>\n",
              "      <td id=\"T_cc956_row9_col0\" class=\"data row9 col0\" >XGB, GPC, GBC</td>\n",
              "      <td id=\"T_cc956_row9_col1\" class=\"data row9 col1\" >0.905</td>\n",
              "      <td id=\"T_cc956_row9_col2\" class=\"data row9 col2\" >0.848</td>\n",
              "      <td id=\"T_cc956_row9_col3\" class=\"data row9 col3\" >0.944</td>\n",
              "      <td id=\"T_cc956_row9_col4\" class=\"data row9 col4\" >0.893</td>\n",
              "    </tr>\n",
              "    <tr>\n",
              "      <th id=\"T_cc956_level0_row10\" class=\"row_heading level0 row10\" >10</th>\n",
              "      <td id=\"T_cc956_row10_col0\" class=\"data row10 col0\" >GNB, DT, XGB, GPC</td>\n",
              "      <td id=\"T_cc956_row10_col1\" class=\"data row10 col1\" >0.911</td>\n",
              "      <td id=\"T_cc956_row10_col2\" class=\"data row10 col2\" >0.850</td>\n",
              "      <td id=\"T_cc956_row10_col3\" class=\"data row10 col3\" >0.958</td>\n",
              "      <td id=\"T_cc956_row10_col4\" class=\"data row10 col4\" >0.901</td>\n",
              "    </tr>\n",
              "    <tr>\n",
              "      <th id=\"T_cc956_level0_row11\" class=\"row_heading level0 row11\" >11</th>\n",
              "      <td id=\"T_cc956_row11_col0\" class=\"data row11 col0\" >GNB, DT, XGB, GBC</td>\n",
              "      <td id=\"T_cc956_row11_col1\" class=\"data row11 col1\" >0.911</td>\n",
              "      <td id=\"T_cc956_row11_col2\" class=\"data row11 col2\" >0.850</td>\n",
              "      <td id=\"T_cc956_row11_col3\" class=\"data row11 col3\" >0.958</td>\n",
              "      <td id=\"T_cc956_row11_col4\" class=\"data row11 col4\" >0.901</td>\n",
              "    </tr>\n",
              "    <tr>\n",
              "      <th id=\"T_cc956_level0_row12\" class=\"row_heading level0 row12\" >12</th>\n",
              "      <td id=\"T_cc956_row12_col0\" class=\"data row12 col0\" >GNB, DT, GPC, GBC</td>\n",
              "      <td id=\"T_cc956_row12_col1\" class=\"data row12 col1\" >0.911</td>\n",
              "      <td id=\"T_cc956_row12_col2\" class=\"data row12 col2\" >0.850</td>\n",
              "      <td id=\"T_cc956_row12_col3\" class=\"data row12 col3\" >0.958</td>\n",
              "      <td id=\"T_cc956_row12_col4\" class=\"data row12 col4\" >0.901</td>\n",
              "    </tr>\n",
              "    <tr>\n",
              "      <th id=\"T_cc956_level0_row13\" class=\"row_heading level0 row13\" >13</th>\n",
              "      <td id=\"T_cc956_row13_col0\" class=\"data row13 col0\" >GNB, XGB, GPC, GBC</td>\n",
              "      <td id=\"T_cc956_row13_col1\" class=\"data row13 col1\" >0.911</td>\n",
              "      <td id=\"T_cc956_row13_col2\" class=\"data row13 col2\" >0.850</td>\n",
              "      <td id=\"T_cc956_row13_col3\" class=\"data row13 col3\" >0.958</td>\n",
              "      <td id=\"T_cc956_row13_col4\" class=\"data row13 col4\" >0.901</td>\n",
              "    </tr>\n",
              "    <tr>\n",
              "      <th id=\"T_cc956_level0_row14\" class=\"row_heading level0 row14\" >14</th>\n",
              "      <td id=\"T_cc956_row14_col0\" class=\"data row14 col0\" >DT, XGB, GPC, GBC</td>\n",
              "      <td id=\"T_cc956_row14_col1\" class=\"data row14 col1\" >0.911</td>\n",
              "      <td id=\"T_cc956_row14_col2\" class=\"data row14 col2\" >0.850</td>\n",
              "      <td id=\"T_cc956_row14_col3\" class=\"data row14 col3\" >0.958</td>\n",
              "      <td id=\"T_cc956_row14_col4\" class=\"data row14 col4\" >0.901</td>\n",
              "    </tr>\n",
              "    <tr>\n",
              "      <th id=\"T_cc956_level0_row15\" class=\"row_heading level0 row15\" >15</th>\n",
              "      <td id=\"T_cc956_row15_col0\" class=\"data row15 col0\" >GNB, DT, XGB, GPC, GBC</td>\n",
              "      <td id=\"T_cc956_row15_col1\" class=\"data row15 col1\" >0.911</td>\n",
              "      <td id=\"T_cc956_row15_col2\" class=\"data row15 col2\" >0.850</td>\n",
              "      <td id=\"T_cc956_row15_col3\" class=\"data row15 col3\" >0.958</td>\n",
              "      <td id=\"T_cc956_row15_col4\" class=\"data row15 col4\" >0.901</td>\n",
              "    </tr>\n",
              "  </tbody>\n",
              "</table>\n"
            ]
          },
          "metadata": {},
          "execution_count": 34
        }
      ]
    }
  ],
  "metadata": {
    "colab": {
      "provenance": []
    },
    "kernelspec": {
      "display_name": "Python 3",
      "name": "python3"
    },
    "language_info": {
      "name": "python"
    }
  },
  "nbformat": 4,
  "nbformat_minor": 0
}